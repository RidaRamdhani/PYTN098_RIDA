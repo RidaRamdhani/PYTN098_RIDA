{
 "cells": [
  {
   "cell_type": "code",
   "execution_count": 1,
   "metadata": {},
   "outputs": [],
   "source": [
    "import numpy as np\n",
    "import pandas as pd"
   ]
  },
  {
   "cell_type": "code",
   "execution_count": 6,
   "metadata": {},
   "outputs": [
    {
     "data": {
      "text/html": [
       "<div>\n",
       "<style scoped>\n",
       "    .dataframe tbody tr th:only-of-type {\n",
       "        vertical-align: middle;\n",
       "    }\n",
       "\n",
       "    .dataframe tbody tr th {\n",
       "        vertical-align: top;\n",
       "    }\n",
       "\n",
       "    .dataframe thead th {\n",
       "        text-align: right;\n",
       "    }\n",
       "</style>\n",
       "<table border=\"1\" class=\"dataframe\">\n",
       "  <thead>\n",
       "    <tr style=\"text-align: right;\">\n",
       "      <th></th>\n",
       "      <th>lsoa_code</th>\n",
       "      <th>borough</th>\n",
       "      <th>major_category</th>\n",
       "      <th>minor_category</th>\n",
       "      <th>value</th>\n",
       "      <th>year</th>\n",
       "      <th>month</th>\n",
       "    </tr>\n",
       "  </thead>\n",
       "  <tbody>\n",
       "    <tr>\n",
       "      <th>0</th>\n",
       "      <td>E01001116</td>\n",
       "      <td>Croydon</td>\n",
       "      <td>Burglary</td>\n",
       "      <td>Burglary in Other Buildings</td>\n",
       "      <td>0</td>\n",
       "      <td>2016</td>\n",
       "      <td>11</td>\n",
       "    </tr>\n",
       "    <tr>\n",
       "      <th>1</th>\n",
       "      <td>E01001646</td>\n",
       "      <td>Greenwich</td>\n",
       "      <td>Violence Against the Person</td>\n",
       "      <td>Other violence</td>\n",
       "      <td>0</td>\n",
       "      <td>2016</td>\n",
       "      <td>11</td>\n",
       "    </tr>\n",
       "    <tr>\n",
       "      <th>2</th>\n",
       "      <td>E01000677</td>\n",
       "      <td>Bromley</td>\n",
       "      <td>Violence Against the Person</td>\n",
       "      <td>Other violence</td>\n",
       "      <td>0</td>\n",
       "      <td>2015</td>\n",
       "      <td>5</td>\n",
       "    </tr>\n",
       "    <tr>\n",
       "      <th>3</th>\n",
       "      <td>E01003774</td>\n",
       "      <td>Redbridge</td>\n",
       "      <td>Burglary</td>\n",
       "      <td>Burglary in Other Buildings</td>\n",
       "      <td>0</td>\n",
       "      <td>2016</td>\n",
       "      <td>3</td>\n",
       "    </tr>\n",
       "    <tr>\n",
       "      <th>4</th>\n",
       "      <td>E01004563</td>\n",
       "      <td>Wandsworth</td>\n",
       "      <td>Robbery</td>\n",
       "      <td>Personal Property</td>\n",
       "      <td>0</td>\n",
       "      <td>2008</td>\n",
       "      <td>6</td>\n",
       "    </tr>\n",
       "    <tr>\n",
       "      <th>...</th>\n",
       "      <td>...</td>\n",
       "      <td>...</td>\n",
       "      <td>...</td>\n",
       "      <td>...</td>\n",
       "      <td>...</td>\n",
       "      <td>...</td>\n",
       "      <td>...</td>\n",
       "    </tr>\n",
       "    <tr>\n",
       "      <th>13490599</th>\n",
       "      <td>E01000504</td>\n",
       "      <td>Brent</td>\n",
       "      <td>Criminal Damage</td>\n",
       "      <td>Criminal Damage To Dwelling</td>\n",
       "      <td>0</td>\n",
       "      <td>2015</td>\n",
       "      <td>2</td>\n",
       "    </tr>\n",
       "    <tr>\n",
       "      <th>13490600</th>\n",
       "      <td>E01002504</td>\n",
       "      <td>Hillingdon</td>\n",
       "      <td>Robbery</td>\n",
       "      <td>Personal Property</td>\n",
       "      <td>1</td>\n",
       "      <td>2015</td>\n",
       "      <td>6</td>\n",
       "    </tr>\n",
       "    <tr>\n",
       "      <th>13490601</th>\n",
       "      <td>E01004165</td>\n",
       "      <td>Sutton</td>\n",
       "      <td>Burglary</td>\n",
       "      <td>Burglary in a Dwelling</td>\n",
       "      <td>0</td>\n",
       "      <td>2011</td>\n",
       "      <td>2</td>\n",
       "    </tr>\n",
       "    <tr>\n",
       "      <th>13490602</th>\n",
       "      <td>E01001134</td>\n",
       "      <td>Croydon</td>\n",
       "      <td>Robbery</td>\n",
       "      <td>Business Property</td>\n",
       "      <td>0</td>\n",
       "      <td>2011</td>\n",
       "      <td>5</td>\n",
       "    </tr>\n",
       "    <tr>\n",
       "      <th>13490603</th>\n",
       "      <td>E01003413</td>\n",
       "      <td>Merton</td>\n",
       "      <td>Violence Against the Person</td>\n",
       "      <td>Wounding/GBH</td>\n",
       "      <td>0</td>\n",
       "      <td>2015</td>\n",
       "      <td>6</td>\n",
       "    </tr>\n",
       "  </tbody>\n",
       "</table>\n",
       "<p>13490604 rows × 7 columns</p>\n",
       "</div>"
      ],
      "text/plain": [
       "          lsoa_code     borough               major_category  \\\n",
       "0         E01001116     Croydon                     Burglary   \n",
       "1         E01001646   Greenwich  Violence Against the Person   \n",
       "2         E01000677     Bromley  Violence Against the Person   \n",
       "3         E01003774   Redbridge                     Burglary   \n",
       "4         E01004563  Wandsworth                      Robbery   \n",
       "...             ...         ...                          ...   \n",
       "13490599  E01000504       Brent              Criminal Damage   \n",
       "13490600  E01002504  Hillingdon                      Robbery   \n",
       "13490601  E01004165      Sutton                     Burglary   \n",
       "13490602  E01001134     Croydon                      Robbery   \n",
       "13490603  E01003413      Merton  Violence Against the Person   \n",
       "\n",
       "                       minor_category  value  year  month  \n",
       "0         Burglary in Other Buildings      0  2016     11  \n",
       "1                      Other violence      0  2016     11  \n",
       "2                      Other violence      0  2015      5  \n",
       "3         Burglary in Other Buildings      0  2016      3  \n",
       "4                   Personal Property      0  2008      6  \n",
       "...                               ...    ...   ...    ...  \n",
       "13490599  Criminal Damage To Dwelling      0  2015      2  \n",
       "13490600            Personal Property      1  2015      6  \n",
       "13490601       Burglary in a Dwelling      0  2011      2  \n",
       "13490602            Business Property      0  2011      5  \n",
       "13490603                 Wounding/GBH      0  2015      6  \n",
       "\n",
       "[13490604 rows x 7 columns]"
      ]
     },
     "execution_count": 6,
     "metadata": {},
     "output_type": "execute_result"
    }
   ],
   "source": [
    "df = pd.read_csv(\"D:/PYTN 098/london_crime_by_lsoa.csv\")\n",
    "df"
   ]
  },
  {
   "cell_type": "code",
   "execution_count": 7,
   "metadata": {},
   "outputs": [
    {
     "name": "stdout",
     "output_type": "stream",
     "text": [
      "<class 'pandas.core.frame.DataFrame'>\n",
      "RangeIndex: 13490604 entries, 0 to 13490603\n",
      "Data columns (total 7 columns):\n",
      " #   Column          Dtype \n",
      "---  ------          ----- \n",
      " 0   lsoa_code       object\n",
      " 1   borough         object\n",
      " 2   major_category  object\n",
      " 3   minor_category  object\n",
      " 4   value           int64 \n",
      " 5   year            int64 \n",
      " 6   month           int64 \n",
      "dtypes: int64(3), object(4)\n",
      "memory usage: 720.5+ MB\n"
     ]
    }
   ],
   "source": [
    "df.info()"
   ]
  },
  {
   "cell_type": "code",
   "execution_count": 9,
   "metadata": {},
   "outputs": [
    {
     "data": {
      "text/html": [
       "<div>\n",
       "<style scoped>\n",
       "    .dataframe tbody tr th:only-of-type {\n",
       "        vertical-align: middle;\n",
       "    }\n",
       "\n",
       "    .dataframe tbody tr th {\n",
       "        vertical-align: top;\n",
       "    }\n",
       "\n",
       "    .dataframe thead th {\n",
       "        text-align: right;\n",
       "    }\n",
       "</style>\n",
       "<table border=\"1\" class=\"dataframe\">\n",
       "  <thead>\n",
       "    <tr style=\"text-align: right;\">\n",
       "      <th></th>\n",
       "      <th>lsoa_code</th>\n",
       "      <th>borough</th>\n",
       "      <th>major_category</th>\n",
       "      <th>minor_category</th>\n",
       "      <th>value</th>\n",
       "      <th>year</th>\n",
       "      <th>month</th>\n",
       "    </tr>\n",
       "  </thead>\n",
       "  <tbody>\n",
       "    <tr>\n",
       "      <th>0</th>\n",
       "      <td>E01001116</td>\n",
       "      <td>Croydon</td>\n",
       "      <td>Burglary</td>\n",
       "      <td>Burglary in Other Buildings</td>\n",
       "      <td>0</td>\n",
       "      <td>2016</td>\n",
       "      <td>11</td>\n",
       "    </tr>\n",
       "    <tr>\n",
       "      <th>1</th>\n",
       "      <td>E01001646</td>\n",
       "      <td>Greenwich</td>\n",
       "      <td>Violence Against the Person</td>\n",
       "      <td>Other violence</td>\n",
       "      <td>0</td>\n",
       "      <td>2016</td>\n",
       "      <td>11</td>\n",
       "    </tr>\n",
       "    <tr>\n",
       "      <th>2</th>\n",
       "      <td>E01000677</td>\n",
       "      <td>Bromley</td>\n",
       "      <td>Violence Against the Person</td>\n",
       "      <td>Other violence</td>\n",
       "      <td>0</td>\n",
       "      <td>2015</td>\n",
       "      <td>5</td>\n",
       "    </tr>\n",
       "    <tr>\n",
       "      <th>3</th>\n",
       "      <td>E01003774</td>\n",
       "      <td>Redbridge</td>\n",
       "      <td>Burglary</td>\n",
       "      <td>Burglary in Other Buildings</td>\n",
       "      <td>0</td>\n",
       "      <td>2016</td>\n",
       "      <td>3</td>\n",
       "    </tr>\n",
       "    <tr>\n",
       "      <th>4</th>\n",
       "      <td>E01004563</td>\n",
       "      <td>Wandsworth</td>\n",
       "      <td>Robbery</td>\n",
       "      <td>Personal Property</td>\n",
       "      <td>0</td>\n",
       "      <td>2008</td>\n",
       "      <td>6</td>\n",
       "    </tr>\n",
       "  </tbody>\n",
       "</table>\n",
       "</div>"
      ],
      "text/plain": [
       "   lsoa_code     borough               major_category  \\\n",
       "0  E01001116     Croydon                     Burglary   \n",
       "1  E01001646   Greenwich  Violence Against the Person   \n",
       "2  E01000677     Bromley  Violence Against the Person   \n",
       "3  E01003774   Redbridge                     Burglary   \n",
       "4  E01004563  Wandsworth                      Robbery   \n",
       "\n",
       "                minor_category  value  year  month  \n",
       "0  Burglary in Other Buildings      0  2016     11  \n",
       "1               Other violence      0  2016     11  \n",
       "2               Other violence      0  2015      5  \n",
       "3  Burglary in Other Buildings      0  2016      3  \n",
       "4            Personal Property      0  2008      6  "
      ]
     },
     "execution_count": 9,
     "metadata": {},
     "output_type": "execute_result"
    }
   ],
   "source": [
    "df.head()"
   ]
  },
  {
   "cell_type": "code",
   "execution_count": 14,
   "metadata": {},
   "outputs": [
    {
     "data": {
      "text/plain": [
       "lsoa_code         0\n",
       "borough           0\n",
       "major_category    0\n",
       "minor_category    0\n",
       "value             0\n",
       "year              0\n",
       "month             0\n",
       "dtype: int64"
      ]
     },
     "execution_count": 14,
     "metadata": {},
     "output_type": "execute_result"
    }
   ],
   "source": [
    "df.isnull().sum()"
   ]
  },
  {
   "cell_type": "code",
   "execution_count": 15,
   "metadata": {},
   "outputs": [
    {
     "data": {
      "text/plain": [
       "0"
      ]
     },
     "execution_count": 15,
     "metadata": {},
     "output_type": "execute_result"
    }
   ],
   "source": [
    "df.isnull().sum().sum()"
   ]
  },
  {
   "cell_type": "code",
   "execution_count": 16,
   "metadata": {},
   "outputs": [
    {
     "data": {
      "text/plain": [
       "min       0.000000\n",
       "mean      0.477944\n",
       "max     309.000000\n",
       "Name: value, dtype: float64"
      ]
     },
     "execution_count": 16,
     "metadata": {},
     "output_type": "execute_result"
    }
   ],
   "source": [
    "df['value'].agg((\"min\", \"mean\", \"max\"))"
   ]
  },
  {
   "cell_type": "code",
   "execution_count": 18,
   "metadata": {},
   "outputs": [
    {
     "name": "stdout",
     "output_type": "stream",
     "text": [
      "aggregat major category di dataset\n",
      "9 category\n",
      "['Burglary' 'Violence Against the Person' 'Robbery' 'Theft and Handling'\n",
      " 'Criminal Damage' 'Drugs' 'Fraud or Forgery' 'Other Notifiable Offences'\n",
      " 'Sexual Offences']\n"
     ]
    }
   ],
   "source": [
    "print(\"aggregat major category di dataset\")\n",
    "print(df[\"major_category\"].nunique(), \"category\")\n",
    "print(df[\"major_category\"].unique())"
   ]
  },
  {
   "cell_type": "code",
   "execution_count": 19,
   "metadata": {},
   "outputs": [
    {
     "name": "stdout",
     "output_type": "stream",
     "text": [
      "aggregat minor category di dataset\n",
      "32 category\n",
      "['Burglary in Other Buildings' 'Other violence' 'Personal Property'\n",
      " 'Other Theft' 'Offensive Weapon' 'Criminal Damage To Other Building'\n",
      " 'Theft/Taking of Pedal Cycle' 'Motor Vehicle Interference & Tampering'\n",
      " 'Theft/Taking Of Motor Vehicle' 'Wounding/GBH' 'Other Theft Person'\n",
      " 'Common Assault' 'Theft From Shops' 'Possession Of Drugs' 'Harassment'\n",
      " 'Handling Stolen Goods' 'Criminal Damage To Dwelling'\n",
      " 'Burglary in a Dwelling' 'Criminal Damage To Motor Vehicle'\n",
      " 'Other Criminal Damage' 'Counted per Victim' 'Going Equipped'\n",
      " 'Other Fraud & Forgery' 'Assault with Injury' 'Drug Trafficking'\n",
      " 'Other Drugs' 'Business Property' 'Other Notifiable' 'Other Sexual'\n",
      " 'Theft From Motor Vehicle' 'Rape' 'Murder']\n"
     ]
    }
   ],
   "source": [
    "print(\"aggregat minor category di dataset\")\n",
    "print(df[\"minor_category\"].nunique(), \"category\")\n",
    "print(df[\"minor_category\"].unique())"
   ]
  },
  {
   "cell_type": "code",
   "execution_count": 20,
   "metadata": {},
   "outputs": [
    {
     "name": "stdout",
     "output_type": "stream",
     "text": [
      "aggregat kota di dataset\n",
      "33 kota\n",
      "['Croydon' 'Greenwich' 'Bromley' 'Redbridge' 'Wandsworth' 'Ealing'\n",
      " 'Hounslow' 'Newham' 'Sutton' 'Haringey' 'Lambeth' 'Richmond upon Thames'\n",
      " 'Hillingdon' 'Havering' 'Barking and Dagenham' 'Kingston upon Thames'\n",
      " 'Westminster' 'Hackney' 'Enfield' 'Harrow' 'Lewisham' 'Brent' 'Southwark'\n",
      " 'Barnet' 'Waltham Forest' 'Camden' 'Bexley' 'Kensington and Chelsea'\n",
      " 'Islington' 'Tower Hamlets' 'Hammersmith and Fulham' 'Merton'\n",
      " 'City of London']\n"
     ]
    }
   ],
   "source": [
    "print(\"aggregat kota di dataset\")\n",
    "print(df[\"borough\"].nunique(), \"kota\")\n",
    "print(df[\"borough\"].unique())"
   ]
  },
  {
   "cell_type": "code",
   "execution_count": 23,
   "metadata": {},
   "outputs": [
    {
     "data": {
      "text/plain": [
       "borough\n",
       "Croydon                   602100\n",
       "Barnet                    572832\n",
       "Ealing                    549396\n",
       "Bromley                   523908\n",
       "Lambeth                   519048\n",
       "Enfield                   511164\n",
       "Wandsworth                498636\n",
       "Brent                     490644\n",
       "Lewisham                  485136\n",
       "Southwark                 483300\n",
       "Newham                    471420\n",
       "Redbridge                 445716\n",
       "Hillingdon                442584\n",
       "Greenwich                 421200\n",
       "Hackney                   417744\n",
       "Haringey                  413856\n",
       "Tower Hamlets             412128\n",
       "Waltham Forest            406296\n",
       "Havering                  399600\n",
       "Hounslow                  395928\n",
       "Bexley                    385668\n",
       "Camden                    378432\n",
       "Westminster               366660\n",
       "Harrow                    365688\n",
       "Islington                 359208\n",
       "Merton                    339876\n",
       "Hammersmith and Fulham    328752\n",
       "Sutton                    322488\n",
       "Barking and Dagenham      311040\n",
       "Richmond upon Thames      304128\n",
       "Kensington and Chelsea    296784\n",
       "Kingston upon Thames      259524\n",
       "City of London              9720\n",
       "Name: count, dtype: int64"
      ]
     },
     "execution_count": 23,
     "metadata": {},
     "output_type": "execute_result"
    }
   ],
   "source": [
    "df['borough'].value_counts()"
   ]
  },
  {
   "cell_type": "code",
   "execution_count": 25,
   "metadata": {},
   "outputs": [
    {
     "data": {
      "text/plain": [
       "borough\n",
       "Croydon    602100\n",
       "Name: count, dtype: int64"
      ]
     },
     "execution_count": 25,
     "metadata": {},
     "output_type": "execute_result"
    }
   ],
   "source": [
    "df['borough'].value_counts()[[0]]"
   ]
  },
  {
   "cell_type": "code",
   "execution_count": 28,
   "metadata": {},
   "outputs": [
    {
     "data": {
      "text/plain": [
       "'Croydon'"
      ]
     },
     "execution_count": 28,
     "metadata": {},
     "output_type": "execute_result"
    }
   ],
   "source": [
    "borough_terbanyak = df['borough'].value_counts()[[0]].index[0]\n",
    "borough_terbanyak"
   ]
  },
  {
   "cell_type": "code",
   "execution_count": 30,
   "metadata": {},
   "outputs": [
    {
     "name": "stdout",
     "output_type": "stream",
     "text": [
      "(602100, 7)\n"
     ]
    },
    {
     "data": {
      "text/html": [
       "<div>\n",
       "<style scoped>\n",
       "    .dataframe tbody tr th:only-of-type {\n",
       "        vertical-align: middle;\n",
       "    }\n",
       "\n",
       "    .dataframe tbody tr th {\n",
       "        vertical-align: top;\n",
       "    }\n",
       "\n",
       "    .dataframe thead th {\n",
       "        text-align: right;\n",
       "    }\n",
       "</style>\n",
       "<table border=\"1\" class=\"dataframe\">\n",
       "  <thead>\n",
       "    <tr style=\"text-align: right;\">\n",
       "      <th></th>\n",
       "      <th>lsoa_code</th>\n",
       "      <th>borough</th>\n",
       "      <th>major_category</th>\n",
       "      <th>minor_category</th>\n",
       "      <th>value</th>\n",
       "      <th>year</th>\n",
       "      <th>month</th>\n",
       "    </tr>\n",
       "  </thead>\n",
       "  <tbody>\n",
       "    <tr>\n",
       "      <th>0</th>\n",
       "      <td>E01001116</td>\n",
       "      <td>Croydon</td>\n",
       "      <td>Burglary</td>\n",
       "      <td>Burglary in Other Buildings</td>\n",
       "      <td>0</td>\n",
       "      <td>2016</td>\n",
       "      <td>11</td>\n",
       "    </tr>\n",
       "    <tr>\n",
       "      <th>42</th>\n",
       "      <td>E01001029</td>\n",
       "      <td>Croydon</td>\n",
       "      <td>Drugs</td>\n",
       "      <td>Possession Of Drugs</td>\n",
       "      <td>0</td>\n",
       "      <td>2010</td>\n",
       "      <td>12</td>\n",
       "    </tr>\n",
       "    <tr>\n",
       "      <th>43</th>\n",
       "      <td>E01001193</td>\n",
       "      <td>Croydon</td>\n",
       "      <td>Theft and Handling</td>\n",
       "      <td>Other Theft</td>\n",
       "      <td>1</td>\n",
       "      <td>2014</td>\n",
       "      <td>5</td>\n",
       "    </tr>\n",
       "    <tr>\n",
       "      <th>55</th>\n",
       "      <td>E01001171</td>\n",
       "      <td>Croydon</td>\n",
       "      <td>Violence Against the Person</td>\n",
       "      <td>Offensive Weapon</td>\n",
       "      <td>0</td>\n",
       "      <td>2012</td>\n",
       "      <td>12</td>\n",
       "    </tr>\n",
       "    <tr>\n",
       "      <th>83</th>\n",
       "      <td>E01000996</td>\n",
       "      <td>Croydon</td>\n",
       "      <td>Drugs</td>\n",
       "      <td>Drug Trafficking</td>\n",
       "      <td>0</td>\n",
       "      <td>2008</td>\n",
       "      <td>2</td>\n",
       "    </tr>\n",
       "  </tbody>\n",
       "</table>\n",
       "</div>"
      ],
      "text/plain": [
       "    lsoa_code  borough               major_category  \\\n",
       "0   E01001116  Croydon                     Burglary   \n",
       "42  E01001029  Croydon                        Drugs   \n",
       "43  E01001193  Croydon           Theft and Handling   \n",
       "55  E01001171  Croydon  Violence Against the Person   \n",
       "83  E01000996  Croydon                        Drugs   \n",
       "\n",
       "                 minor_category  value  year  month  \n",
       "0   Burglary in Other Buildings      0  2016     11  \n",
       "42          Possession Of Drugs      0  2010     12  \n",
       "43                  Other Theft      1  2014      5  \n",
       "55             Offensive Weapon      0  2012     12  \n",
       "83             Drug Trafficking      0  2008      2  "
      ]
     },
     "execution_count": 30,
     "metadata": {},
     "output_type": "execute_result"
    }
   ],
   "source": [
    "df_borough_terbanyak = df[df['borough'] == borough_terbanyak]\n",
    "\n",
    "print(df_borough_terbanyak.shape)\n",
    "df_borough_terbanyak.head()"
   ]
  },
  {
   "cell_type": "code",
   "execution_count": 31,
   "metadata": {},
   "outputs": [
    {
     "data": {
      "text/plain": [
       "year\n",
       "2008    29516\n",
       "2009    29784\n",
       "2010    29373\n",
       "2011    29830\n",
       "2012    30189\n",
       "2013    27444\n",
       "2014    27357\n",
       "2015    28089\n",
       "2016    28712\n",
       "Name: value, dtype: int64"
      ]
     },
     "execution_count": 31,
     "metadata": {},
     "output_type": "execute_result"
    }
   ],
   "source": [
    "df_yearly_value = df_borough_terbanyak.groupby('year')['value'].sum()\n",
    "df_yearly_value"
   ]
  },
  {
   "cell_type": "code",
   "execution_count": 33,
   "metadata": {},
   "outputs": [
    {
     "data": {
      "text/plain": [
       "<Axes: xlabel='year'>"
      ]
     },
     "execution_count": 33,
     "metadata": {},
     "output_type": "execute_result"
    },
    {
     "data": {
      "image/png": "[encoded data removed]",
      "text/plain": [
       "<Figure size 1200x600 with 1 Axes>"
      ]
     },
     "metadata": {},
     "output_type": "display_data"
    }
   ],
   "source": [
    "df_yearly_value.plot(color=\"blue\", figsize=(12, 6), marker=\"o\")"
   ]
  },
  {
   "cell_type": "markdown",
   "metadata": {},
   "source": [
    "Dari hasil proses data \"london_crime_by_lsoa\" dapat diketahui bahwa borough yang memiliki tingkat kejahatan paling tinggi adalah \"Croydon\".\n",
    "Selama tahun 2008 sampai 2016 value tertinggi terjadi pada tahun 2012 sebesar 30189 dan terendah pada tahun 2014 sebesar 27357."
   ]
  },
  {
   "cell_type": "code",
   "execution_count": null,
   "metadata": {},
   "outputs": [],
   "source": []
  }
 ],
 "metadata": {
  "kernelspec": {
   "display_name": "base",
   "language": "python",
   "name": "python3"
  },
  "language_info": {
   "codemirror_mode": {
    "name": "ipython",
    "version": 3
   },
   "file_extension": ".py",
   "mimetype": "text/x-python",
   "name": "python",
   "nbconvert_exporter": "python",
   "pygments_lexer": "ipython3",
   "version": "3.9.18"
  }
 },
 "nbformat": 4,
 "nbformat_minor": 2
}
